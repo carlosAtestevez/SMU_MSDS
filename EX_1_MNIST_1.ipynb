{
 "cells": [
  {
   "cell_type": "markdown",
   "id": "f14e700f-6544-4b31-87e5-59c8194e5c9b",
   "metadata": {},
   "source": [
    "### Example Predicting digits using MNIST Dataset\n",
    "<br>Carlos Estevez\n",
    "<br>carlos@estevez.do\n",
    "<br>https://github.com/carlosAtestevez\n"
   ]
  },
  {
   "cell_type": "code",
   "execution_count": 1,
   "id": "7380a965-5ea2-4b07-b5a0-7ecad718d697",
   "metadata": {},
   "outputs": [
    {
     "name": "stderr",
     "output_type": "stream",
     "text": [
      "C:\\Users\\carlo\\anaconda3\\Lib\\site-packages\\torchvision\\io\\image.py:13: UserWarning: Failed to load image Python extension: '[WinError 127] The specified procedure could not be found'If you don't plan on using image functionality from `torchvision.io`, you can ignore this warning. Otherwise, there might be something wrong with your environment. Did you have `libjpeg` or `libpng` installed before building `torchvision` from source?\n",
      "  warn(\n"
     ]
    }
   ],
   "source": [
    "import numpy as np\n",
    "import matplotlib.pyplot as plt\n",
    "import torch\n",
    "import torch.nn as nn\n",
    "import torch.nn.functional as F\n",
    "from torch.utils.data import DataLoader\n",
    "from torchvision import datasets,transforms"
   ]
  },
  {
   "cell_type": "code",
   "execution_count": 2,
   "id": "94773982-b607-4dee-8c03-561231df528b",
   "metadata": {},
   "outputs": [],
   "source": [
    "#Importing datasets\n",
    "download_first_time = False #Only the first time\n",
    "train_data = datasets.MNIST(root=\"./datasets\",download=download_first_time,train=True,transform=transforms.ToTensor())\n",
    "test_data = datasets.MNIST(root=\"./datasets\",download=download_first_time,train=False,transform=transforms.ToTensor())\n",
    "train_loader = DataLoader(train_data,batch_size=100,shuffle=True)\n",
    "test_loader = DataLoader(test_data,batch_size=500,shuffle=False)"
   ]
  },
  {
   "cell_type": "code",
   "execution_count": 3,
   "id": "220cdcda-9438-4b69-8717-fcd68ef0639d",
   "metadata": {},
   "outputs": [
    {
     "name": "stdout",
     "output_type": "stream",
     "text": [
      "Shape training data torch.Size([60000, 28, 28])\n",
      "Shape training data torch.Size([10000, 28, 28])\n"
     ]
    }
   ],
   "source": [
    "print(f\"Shape training data {train_data.data.shape}\")\n",
    "print(f\"Shape training data {test_data.data.shape}\")"
   ]
  },
  {
   "cell_type": "code",
   "execution_count": 9,
   "id": "0ca4a0ec-1164-4f0d-85c9-0fd37890f621",
   "metadata": {},
   "outputs": [
    {
     "data": {
      "text/plain": [
       "784"
      ]
     },
     "execution_count": 9,
     "metadata": {},
     "output_type": "execute_result"
    }
   ],
   "source": [
    "28*28"
   ]
  },
  {
   "cell_type": "code",
   "execution_count": 4,
   "id": "6c7c3d09-688f-41ea-ac01-48480f9d57f0",
   "metadata": {},
   "outputs": [
    {
     "name": "stdout",
     "output_type": "stream",
     "text": [
      "The image is a 1\n"
     ]
    },
    {
     "data": {
      "image/png": "[encoded data removed]",
      "text/plain": [
       "<Figure size 640x480 with 1 Axes>"
      ]
     },
     "metadata": {},
     "output_type": "display_data"
    }
   ],
   "source": [
    "#Showing a testing image\n",
    "x_test,y_test=train_data[6]\n",
    "x_test.shape\n",
    "x_test_format = x_test.reshape(28,28,1)\n",
    "plt.imshow(x_test_format)\n",
    "print(f\"The image is a {y_test}\")"
   ]
  },
  {
   "cell_type": "code",
   "execution_count": 7,
   "id": "1ca1d23e-c1c3-4ea6-a76d-a157421df1fa",
   "metadata": {},
   "outputs": [],
   "source": [
    "#Designing Neural network\n",
    "class EXMnist(nn.Module):\n",
    "\n",
    "    def __init__(self,input_units=784,output_units=10,hidden_1_units = 100,hidden_2_units = 90):\n",
    "        super().__init__()\n",
    "        self.fc_hl1 = nn.Linear(input_units,hidden_1_units)\n",
    "        self.fc_hl2 = nn.Linear(hidden_1_units,hidden_2_units)\n",
    "        self.out_l = nn.Linear(hidden_2_units,output_units)\n",
    "\n",
    "    def forward(self,X):\n",
    "        X = F.relu(self.fc_hl1(X))\n",
    "        X = F.relu(self.fc_hl2(X))\n",
    "        X = self.out_l(X)\n",
    "        return F.log_softmax(X, dim=1)\n",
    "        "
   ]
  },
  {
   "cell_type": "code",
   "execution_count": 47,
   "id": "a6b18c61-c6f4-4483-8708-d8018500136d",
   "metadata": {},
   "outputs": [
    {
     "name": "stdout",
     "output_type": "stream",
     "text": [
      "epoch:  0  batch:   50 [  5000/60000]  loss: 2.29108262  accuracy:  12.560%\n",
      "epoch:  0  batch:  100 [ 10000/60000]  loss: 2.27034473  accuracy:  17.640%\n",
      "epoch:  0  batch:  150 [ 15000/60000]  loss: 2.25959682  accuracy:  23.727%\n",
      "epoch:  0  batch:  200 [ 20000/60000]  loss: 2.23181176  accuracy:  29.205%\n",
      "epoch:  0  batch:  250 [ 25000/60000]  loss: 2.18008232  accuracy:  33.568%\n",
      "epoch:  0  batch:  300 [ 30000/60000]  loss: 2.14440942  accuracy:  36.183%\n",
      "epoch:  0  batch:  350 [ 35000/60000]  loss: 2.11763644  accuracy:  38.123%\n",
      "epoch:  0  batch:  400 [ 40000/60000]  loss: 2.06956768  accuracy:  39.870%\n",
      "epoch:  0  batch:  450 [ 45000/60000]  loss: 1.97870910  accuracy:  41.158%\n",
      "epoch:  0  batch:  500 [ 50000/60000]  loss: 1.78927875  accuracy:  42.574%\n",
      "epoch:  0  batch:  550 [ 55000/60000]  loss: 1.71357906  accuracy:  44.009%\n",
      "epoch:  0  batch:  600 [ 60000/60000]  loss: 1.50341427  accuracy:  45.595%\n",
      "epoch:  1  batch:   50 [  5000/60000]  loss: 1.49838638  accuracy:  68.160%\n",
      "epoch:  1  batch:  100 [ 10000/60000]  loss: 1.18273425  accuracy:  69.950%\n",
      "epoch:  1  batch:  150 [ 15000/60000]  loss: 1.17153156  accuracy:  71.180%\n",
      "epoch:  1  batch:  200 [ 20000/60000]  loss: 0.97538406  accuracy:  72.290%\n",
      "epoch:  1  batch:  250 [ 25000/60000]  loss: 0.85838455  accuracy:  73.356%\n",
      "epoch:  1  batch:  300 [ 30000/60000]  loss: 0.81328738  accuracy:  74.303%\n",
      "epoch:  1  batch:  350 [ 35000/60000]  loss: 0.76390451  accuracy:  75.280%\n",
      "epoch:  1  batch:  400 [ 40000/60000]  loss: 0.74517369  accuracy:  76.075%\n",
      "epoch:  1  batch:  450 [ 45000/60000]  loss: 0.72321236  accuracy:  76.729%\n",
      "epoch:  1  batch:  500 [ 50000/60000]  loss: 0.69970483  accuracy:  77.370%\n",
      "epoch:  1  batch:  550 [ 55000/60000]  loss: 0.74478364  accuracy:  77.807%\n",
      "epoch:  1  batch:  600 [ 60000/60000]  loss: 0.76034266  accuracy:  78.257%\n",
      "epoch:  2  batch:   50 [  5000/60000]  loss: 0.50183153  accuracy:  84.740%\n",
      "epoch:  2  batch:  100 [ 10000/60000]  loss: 0.69687635  accuracy:  84.190%\n",
      "epoch:  2  batch:  150 [ 15000/60000]  loss: 0.52574658  accuracy:  84.527%\n",
      "epoch:  2  batch:  200 [ 20000/60000]  loss: 0.52587253  accuracy:  84.685%\n",
      "epoch:  2  batch:  250 [ 25000/60000]  loss: 0.56823111  accuracy:  85.084%\n",
      "epoch:  2  batch:  300 [ 30000/60000]  loss: 0.32892025  accuracy:  85.347%\n",
      "epoch:  2  batch:  350 [ 35000/60000]  loss: 0.65122110  accuracy:  85.443%\n",
      "epoch:  2  batch:  400 [ 40000/60000]  loss: 0.44917029  accuracy:  85.543%\n",
      "epoch:  2  batch:  450 [ 45000/60000]  loss: 0.40345582  accuracy:  85.753%\n",
      "epoch:  2  batch:  500 [ 50000/60000]  loss: 0.35254142  accuracy:  85.906%\n",
      "epoch:  2  batch:  550 [ 55000/60000]  loss: 0.39953092  accuracy:  85.982%\n",
      "epoch:  2  batch:  600 [ 60000/60000]  loss: 0.41839296  accuracy:  86.062%\n",
      "epoch:  3  batch:   50 [  5000/60000]  loss: 0.38404956  accuracy:  88.060%\n",
      "epoch:  3  batch:  100 [ 10000/60000]  loss: 0.36938432  accuracy:  88.060%\n",
      "epoch:  3  batch:  150 [ 15000/60000]  loss: 0.38062850  accuracy:  88.013%\n",
      "epoch:  3  batch:  200 [ 20000/60000]  loss: 0.43793651  accuracy:  88.220%\n",
      "epoch:  3  batch:  250 [ 25000/60000]  loss: 0.38362283  accuracy:  88.208%\n",
      "epoch:  3  batch:  300 [ 30000/60000]  loss: 0.40477586  accuracy:  88.133%\n",
      "epoch:  3  batch:  350 [ 35000/60000]  loss: 0.50338900  accuracy:  88.160%\n",
      "epoch:  3  batch:  400 [ 40000/60000]  loss: 0.42285815  accuracy:  88.270%\n",
      "epoch:  3  batch:  450 [ 45000/60000]  loss: 0.43694460  accuracy:  88.387%\n",
      "epoch:  3  batch:  500 [ 50000/60000]  loss: 0.33060184  accuracy:  88.390%\n",
      "epoch:  3  batch:  550 [ 55000/60000]  loss: 0.36211398  accuracy:  88.411%\n",
      "epoch:  3  batch:  600 [ 60000/60000]  loss: 0.43243054  accuracy:  88.457%\n",
      "epoch:  4  batch:   50 [  5000/60000]  loss: 0.37657738  accuracy:  89.180%\n",
      "epoch:  4  batch:  100 [ 10000/60000]  loss: 0.31560490  accuracy:  89.270%\n",
      "epoch:  4  batch:  150 [ 15000/60000]  loss: 0.32597625  accuracy:  89.327%\n",
      "epoch:  4  batch:  200 [ 20000/60000]  loss: 0.37952563  accuracy:  89.335%\n",
      "epoch:  4  batch:  250 [ 25000/60000]  loss: 0.39163649  accuracy:  89.224%\n",
      "epoch:  4  batch:  300 [ 30000/60000]  loss: 0.37190270  accuracy:  89.220%\n",
      "epoch:  4  batch:  350 [ 35000/60000]  loss: 0.24418315  accuracy:  89.317%\n",
      "epoch:  4  batch:  400 [ 40000/60000]  loss: 0.32887945  accuracy:  89.412%\n",
      "epoch:  4  batch:  450 [ 45000/60000]  loss: 0.34468633  accuracy:  89.433%\n",
      "epoch:  4  batch:  500 [ 50000/60000]  loss: 0.30282187  accuracy:  89.482%\n",
      "epoch:  4  batch:  550 [ 55000/60000]  loss: 0.26873273  accuracy:  89.551%\n",
      "epoch:  4  batch:  600 [ 60000/60000]  loss: 0.52331752  accuracy:  89.580%\n",
      "epoch:  5  batch:   50 [  5000/60000]  loss: 0.35601154  accuracy:  90.480%\n",
      "epoch:  5  batch:  100 [ 10000/60000]  loss: 0.42154029  accuracy:  90.350%\n",
      "epoch:  5  batch:  150 [ 15000/60000]  loss: 0.36059847  accuracy:  90.240%\n",
      "epoch:  5  batch:  200 [ 20000/60000]  loss: 0.28866944  accuracy:  90.120%\n",
      "epoch:  5  batch:  250 [ 25000/60000]  loss: 0.60446638  accuracy:  90.104%\n",
      "epoch:  5  batch:  300 [ 30000/60000]  loss: 0.33397180  accuracy:  90.140%\n",
      "epoch:  5  batch:  350 [ 35000/60000]  loss: 0.40209195  accuracy:  90.166%\n",
      "epoch:  5  batch:  400 [ 40000/60000]  loss: 0.30144349  accuracy:  90.218%\n",
      "epoch:  5  batch:  450 [ 45000/60000]  loss: 0.35766682  accuracy:  90.307%\n",
      "epoch:  5  batch:  500 [ 50000/60000]  loss: 0.40126809  accuracy:  90.252%\n",
      "epoch:  5  batch:  550 [ 55000/60000]  loss: 0.39713755  accuracy:  90.260%\n",
      "epoch:  5  batch:  600 [ 60000/60000]  loss: 0.45462352  accuracy:  90.232%\n",
      "epoch:  6  batch:   50 [  5000/60000]  loss: 0.27720958  accuracy:  90.460%\n",
      "epoch:  6  batch:  100 [ 10000/60000]  loss: 0.25515544  accuracy:  90.430%\n",
      "epoch:  6  batch:  150 [ 15000/60000]  loss: 0.36034492  accuracy:  90.587%\n",
      "epoch:  6  batch:  200 [ 20000/60000]  loss: 0.40662262  accuracy:  90.530%\n",
      "epoch:  6  batch:  250 [ 25000/60000]  loss: 0.34683430  accuracy:  90.728%\n",
      "epoch:  6  batch:  300 [ 30000/60000]  loss: 0.25832731  accuracy:  90.667%\n",
      "epoch:  6  batch:  350 [ 35000/60000]  loss: 0.11136035  accuracy:  90.771%\n",
      "epoch:  6  batch:  400 [ 40000/60000]  loss: 0.37431714  accuracy:  90.755%\n",
      "epoch:  6  batch:  450 [ 45000/60000]  loss: 0.22944571  accuracy:  90.776%\n",
      "epoch:  6  batch:  500 [ 50000/60000]  loss: 0.32199875  accuracy:  90.776%\n",
      "epoch:  6  batch:  550 [ 55000/60000]  loss: 0.19384205  accuracy:  90.796%\n",
      "epoch:  6  batch:  600 [ 60000/60000]  loss: 0.35318059  accuracy:  90.737%\n",
      "epoch:  7  batch:   50 [  5000/60000]  loss: 0.23624401  accuracy:  90.920%\n",
      "epoch:  7  batch:  100 [ 10000/60000]  loss: 0.28478470  accuracy:  91.120%\n",
      "epoch:  7  batch:  150 [ 15000/60000]  loss: 0.36762393  accuracy:  91.053%\n",
      "epoch:  7  batch:  200 [ 20000/60000]  loss: 0.15775774  accuracy:  91.105%\n",
      "epoch:  7  batch:  250 [ 25000/60000]  loss: 0.22986400  accuracy:  90.912%\n",
      "epoch:  7  batch:  300 [ 30000/60000]  loss: 0.40795404  accuracy:  90.910%\n",
      "epoch:  7  batch:  350 [ 35000/60000]  loss: 0.37155473  accuracy:  90.960%\n",
      "epoch:  7  batch:  400 [ 40000/60000]  loss: 0.32001942  accuracy:  91.000%\n",
      "epoch:  7  batch:  450 [ 45000/60000]  loss: 0.25297126  accuracy:  91.091%\n",
      "epoch:  7  batch:  500 [ 50000/60000]  loss: 0.34127048  accuracy:  91.168%\n",
      "epoch:  7  batch:  550 [ 55000/60000]  loss: 0.25642827  accuracy:  91.225%\n",
      "epoch:  7  batch:  600 [ 60000/60000]  loss: 0.39356568  accuracy:  91.210%\n",
      "epoch:  8  batch:   50 [  5000/60000]  loss: 0.33824879  accuracy:  91.800%\n",
      "epoch:  8  batch:  100 [ 10000/60000]  loss: 0.18327171  accuracy:  91.690%\n",
      "epoch:  8  batch:  150 [ 15000/60000]  loss: 0.38266143  accuracy:  91.633%\n",
      "epoch:  8  batch:  200 [ 20000/60000]  loss: 0.24954045  accuracy:  91.540%\n",
      "epoch:  8  batch:  250 [ 25000/60000]  loss: 0.19407532  accuracy:  91.628%\n",
      "epoch:  8  batch:  300 [ 30000/60000]  loss: 0.23149256  accuracy:  91.600%\n",
      "epoch:  8  batch:  350 [ 35000/60000]  loss: 0.27658385  accuracy:  91.606%\n",
      "epoch:  8  batch:  400 [ 40000/60000]  loss: 0.26537102  accuracy:  91.595%\n",
      "epoch:  8  batch:  450 [ 45000/60000]  loss: 0.46872070  accuracy:  91.564%\n",
      "epoch:  8  batch:  500 [ 50000/60000]  loss: 0.16956092  accuracy:  91.576%\n",
      "epoch:  8  batch:  550 [ 55000/60000]  loss: 0.30331525  accuracy:  91.578%\n",
      "epoch:  8  batch:  600 [ 60000/60000]  loss: 0.18020992  accuracy:  91.545%\n",
      "epoch:  9  batch:   50 [  5000/60000]  loss: 0.21680839  accuracy:  91.280%\n",
      "epoch:  9  batch:  100 [ 10000/60000]  loss: 0.29244280  accuracy:  91.340%\n",
      "epoch:  9  batch:  150 [ 15000/60000]  loss: 0.40171570  accuracy:  91.540%\n",
      "epoch:  9  batch:  200 [ 20000/60000]  loss: 0.18844429  accuracy:  91.820%\n",
      "epoch:  9  batch:  250 [ 25000/60000]  loss: 0.44746035  accuracy:  91.820%\n",
      "epoch:  9  batch:  300 [ 30000/60000]  loss: 0.26542512  accuracy:  91.840%\n",
      "epoch:  9  batch:  350 [ 35000/60000]  loss: 0.28522128  accuracy:  91.831%\n",
      "epoch:  9  batch:  400 [ 40000/60000]  loss: 0.27449384  accuracy:  91.825%\n",
      "epoch:  9  batch:  450 [ 45000/60000]  loss: 0.45940131  accuracy:  91.831%\n",
      "epoch:  9  batch:  500 [ 50000/60000]  loss: 0.21444008  accuracy:  91.838%\n",
      "epoch:  9  batch:  550 [ 55000/60000]  loss: 0.24159370  accuracy:  91.864%\n",
      "epoch:  9  batch:  600 [ 60000/60000]  loss: 0.20042720  accuracy:  91.872%\n"
     ]
    }
   ],
   "source": [
    "#Training Neural Network\n",
    "modelEXMnist = EXMnist()\n",
    "criterion = nn.CrossEntropyLoss()\n",
    "optimizer = torch.optim.SGD(modelEXMnist.parameters(),lr=0.01)\n",
    "\n",
    "epochs = 10\n",
    "train_losses = []\n",
    "test_losses = []\n",
    "train_correct = []\n",
    "test_correct = []\n",
    "\n",
    "for index_epoch in range(epochs):\n",
    "    trn_corr = 0\n",
    "    tst_corr = 0\n",
    "    for batch,(x_train,y_train) in enumerate(train_loader):\n",
    "        batch+=1\n",
    "        y_prediction = modelEXMnist(x_train.view(100,-1))\n",
    "        loss = criterion(y_prediction, y_train)\n",
    "        predicted = torch.max(y_prediction.data, 1)[1]\n",
    "        batch_corr = (predicted == y_train).sum()\n",
    "        trn_corr += batch_corr\n",
    "\n",
    "        # Update parameters\n",
    "        optimizer.zero_grad()\n",
    "        loss.backward()\n",
    "        optimizer.step()\n",
    "        \n",
    "        # Print interim results\n",
    "        if batch%50 == 0:\n",
    "            print(f'epoch: {index_epoch:2}  batch: {batch:4} [{100*batch:6}/60000]  loss: {loss.item():10.8f}  \\\n",
    "accuracy: {trn_corr.item()*100/(100*batch):7.3f}%')\n",
    "    train_losses.append(loss)\n",
    "    train_correct.append(trn_corr)\n",
    "\n"
   ]
  },
  {
   "cell_type": "code",
   "execution_count": 69,
   "id": "23069ce3-bf62-4aa2-96fa-cbd5a814cea2",
   "metadata": {},
   "outputs": [
    {
     "name": "stdout",
     "output_type": "stream",
     "text": [
      "loss: 0.26583028 accuracy:  92.530%\n"
     ]
    }
   ],
   "source": [
    "# Run the testing batches\n",
    "batch_size_test = 10000\n",
    "test_loader_total = DataLoader(test_data,batch_size=batch_size_test,shuffle=False)\n",
    "with torch.no_grad():\n",
    "    for b, (X_test, y_test) in enumerate(test_loader_total):\n",
    "        y_val = modelEXMnist(X_test.view(10000, -1))  # Here we flatten X_test\n",
    "        predicted = torch.max(y_val.data, 1)[1] \n",
    "        correct_predictions = (predicted == y_test).sum()\n",
    "        loss = criterion(y_val, y_test)\n",
    "        print(f'loss: {loss.item():10.8f} accuracy: {correct_predictions.item()*100/(batch_size_test):7.3f}%')"
   ]
  },
  {
   "cell_type": "code",
   "execution_count": 6,
   "id": "b6f91370-9fd8-4fbe-be38-41cdb42a9654",
   "metadata": {},
   "outputs": [
    {
     "ename": "NameError",
     "evalue": "name 'modelEXMnist' is not defined",
     "output_type": "error",
     "traceback": [
      "\u001b[1;31m---------------------------------------------------------------------------\u001b[0m",
      "\u001b[1;31mNameError\u001b[0m                                 Traceback (most recent call last)",
      "Cell \u001b[1;32mIn[6], line 10\u001b[0m\n\u001b[0;32m      6\u001b[0m plt\u001b[38;5;241m.\u001b[39mimshow(x_test_img)\n\u001b[0;32m      9\u001b[0m \u001b[38;5;66;03m#Predicting Digit\u001b[39;00m\n\u001b[1;32m---> 10\u001b[0m y_val_ind \u001b[38;5;241m=\u001b[39m modelEXMnist(x_test_ind\u001b[38;5;241m.\u001b[39mview(\u001b[38;5;241m1\u001b[39m, \u001b[38;5;241m-\u001b[39m\u001b[38;5;241m1\u001b[39m))  \u001b[38;5;66;03m# Here we flatten X_test\u001b[39;00m\n\u001b[0;32m     11\u001b[0m predicted_digit \u001b[38;5;241m=\u001b[39m torch\u001b[38;5;241m.\u001b[39mmax(y_val_ind \u001b[38;5;241m.\u001b[39mdata, \u001b[38;5;241m1\u001b[39m)[\u001b[38;5;241m1\u001b[39m] \n\u001b[0;32m     13\u001b[0m \u001b[38;5;28mprint\u001b[39m(\u001b[38;5;124mf\u001b[39m\u001b[38;5;124m\"\u001b[39m\u001b[38;5;124mReal Digit: \u001b[39m\u001b[38;5;132;01m{\u001b[39;00mreal_img\u001b[38;5;132;01m}\u001b[39;00m\u001b[38;5;124m, Predicted digit:\u001b[39m\u001b[38;5;132;01m{\u001b[39;00mpredicted_digit\u001b[38;5;132;01m}\u001b[39;00m\u001b[38;5;124m\"\u001b[39m)\n",
      "\u001b[1;31mNameError\u001b[0m: name 'modelEXMnist' is not defined"
     ]
    },
    {
     "data": {
      "image/png": "[encoded data removed]",
      "text/plain": [
       "<Figure size 640x480 with 1 Axes>"
      ]
     },
     "metadata": {},
     "output_type": "display_data"
    }
   ],
   "source": [
    "#Predicting Single Image\n",
    "\n",
    "index_img = np.random.randint(0,10000)\n",
    "x_test_ind,real_img = test_data[index_img]\n",
    "x_test_img = x_test_ind.reshape(28,28)\n",
    "plt.imshow(x_test_img)\n",
    "\n",
    "\n",
    "#Predicting Digit\n",
    "y_val_ind = modelEXMnist(x_test_ind.view(1, -1))  # Here we flatten X_test\n",
    "predicted_digit = torch.max(y_val_ind .data, 1)[1] \n",
    "\n",
    "print(f\"Real Digit: {real_img}, Predicted digit:{predicted_digit}\")\n",
    "\n"
   ]
  },
  {
   "cell_type": "code",
   "execution_count": null,
   "id": "8c7a345e-c7e2-4f79-8eff-2db1aa5afbd6",
   "metadata": {},
   "outputs": [],
   "source": []
  }
 ],
 "metadata": {
  "kernelspec": {
   "display_name": "Python 3 (ipykernel)",
   "language": "python",
   "name": "python3"
  },
  "language_info": {
   "codemirror_mode": {
    "name": "ipython",
    "version": 3
   },
   "file_extension": ".py",
   "mimetype": "text/x-python",
   "name": "python",
   "nbconvert_exporter": "python",
   "pygments_lexer": "ipython3",
   "version": "3.11.5"
  }
 },
 "nbformat": 4,
 "nbformat_minor": 5
}
